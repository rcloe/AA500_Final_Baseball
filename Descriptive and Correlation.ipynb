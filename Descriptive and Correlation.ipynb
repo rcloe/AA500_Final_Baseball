{
 "cells": [
  {
   "cell_type": "code",
   "execution_count": null,
   "id": "32339031-e3e3-4286-9962-fa8ac07d89c3",
   "metadata": {},
   "outputs": [],
   "source": [
    "import pandas as pd\n",
    "import matplotlib.pyplot as plt\n",
    "import seaborn as sns\n",
    "\n",
    "teams = pd.read_csv(\"/Users/jackkim4/Documents/Compliace:Talent/MSAAI/archive/Teams.csv\")\n",
    "#pitching = pd.read_csv('/Users/jackkim4/Documents/Compliace:Talent/MSAAI/archive/Pitching.csv')\n",
    "\n",
    "data = teams[['W', 'SO', 'BB', 'SB', 'HA', 'HRA', 'ERA']] \n",
    "\n",
    "# Descriptive Statistics \n",
    "print(data.describe()) \n",
    "\n",
    "# Correlation Matrix \n",
    "correlation_matrix = data.corr() \n",
    "plt.figure(figsize=(10, 8)) \n",
    "sns.heatmap(correlation_matrix, annot=True, cmap='coolwarm') \n",
    "plt.title('Correlation Matrix') \n",
    "plt.show()\n",
    "\n",
    "correlations_with_w = data.corrwith(data['W']).drop('W')\n",
    "print(correlations_with_w)\n",
    "sns.barplot(x=correlations_with_w.values, y=correlations_with_w.index)\n",
    "plt.title('Correlation of Predictors with Wins')\n",
    "plt.xlabel('Correlation Coefficient')\n",
    "plt.ylabel('Predictor')\n",
    "plt.show()\n",
    "\n",
    "# Histograms (with KDE) \n",
    "for var in data.columns:\n",
    "    plt.figure()\n",
    "    sns.histplot(data[var], kde=True)\n",
    "    plt.title(f'Distribution of {var}')\n",
    "    plt.show()\n",
    "\n",
    "# Scatter Plots (each predictor vs. Wins) \n",
    "for var in ['SO', 'BB', 'SB', 'HA', 'HRA', 'ERA']:\n",
    "    plt.figure()\n",
    "    sns.scatterplot(x=data[var], y=data['W'])\n",
    "    plt.title(f'Scatter Plot of {var} vs. Wins')\n",
    "    plt.xlabel(var)\n",
    "    plt.ylabel('Wins')\n",
    "    plt.show()"
   ]
  }
 ],
 "metadata": {
  "kernelspec": {
   "display_name": "Python [conda env:base] *",
   "language": "python",
   "name": "conda-base-py"
  },
  "language_info": {
   "codemirror_mode": {
    "name": "ipython",
    "version": 3
   },
   "file_extension": ".py",
   "mimetype": "text/x-python",
   "name": "python",
   "nbconvert_exporter": "python",
   "pygments_lexer": "ipython3",
   "version": "3.12.7"
  }
 },
 "nbformat": 4,
 "nbformat_minor": 5
}
